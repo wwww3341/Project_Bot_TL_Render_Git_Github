{
  "nbformat": 4,
  "nbformat_minor": 0,
  "metadata": {
    "colab": {
      "provenance": [],
      "toc_visible": true
    },
    "kernelspec": {
      "name": "python3",
      "display_name": "Python 3"
    },
    "language_info": {
      "name": "python"
    }
  },
  "cells": [
    {
      "cell_type": "markdown",
      "source": [
        "# **Tutorial Completo: Creación y Despliegue de un Bot de Telegram en Render**\n",
        "\n",
        "Este tutorial cubre todos los pasos desde la configuración inicial en tu computadora hasta tener tu bot de Telegram funcionando 24/7 en Render, utilizando GitHub y Git.\n",
        "\n",
        "## **1. Configuración Inicial en tu Computadora**\n"
      ],
      "metadata": {
        "id": "wlwC-frjFS6f"
      }
    },
    {
      "cell_type": "markdown",
      "source": [
        "# **1.1. Instalación de Herramientas Necesarias**\n",
        "\n",
        "# Asegúrate de tener las siguientes herramientas instaladas en tu computadora:\n",
        "\n",
        "# Python (3.7 o superior)\n",
        "# https://www.python.org/downloads/\n",
        "\n",
        "# Git\n",
        "# https://git-scm.com/downloads/\n",
        "\n",
        "# Un editor de código como Visual Studio Code, Sublime Text, etc.\n"
      ],
      "metadata": {
        "id": "O_I7roltFXeo"
      }
    },
    {
      "cell_type": "markdown",
      "source": [
        "# **1.2. Crear el Entorno de Trabajo**\n",
        "\n",
        "# Navega a la ubicación donde quieres crear tu proyecto:\n",
        "cd C:\\Users\\Sergio\\Desktop\n",
        "\n",
        "# Crea una nueva carpeta para tu proyecto:\n",
        "mkdir telegram-chatbot\n",
        "cd telegram-chatbot\n",
        "\n",
        "# Dentro de esta carpeta, crea los archivos necesarios:\n",
        "# - Archivo `app.py`: Este contendrá el código del bot.\n",
        "# - Archivo `requirements.txt`: Este archivo define las dependencias necesarias.\n"
      ],
      "metadata": {
        "id": "MQ0BpUjgFc1Y"
      }
    },
    {
      "cell_type": "markdown",
      "source": [
        "# **1.3. Configuración de Python y Dependencias**\n",
        "\n",
        "# Dentro de la carpeta `telegram-chatbot`, asegúrate de tener el archivo `requirements.txt` con las siguientes dependencias:\n",
        "\n",
        "# requirements.txt\n",
        "\n",
        "Flask==3.0.3\n",
        "\n",
        "requests\n",
        "\n",
        "hugchat\n",
        "\n",
        "\n",
        "# Instala las dependencias ejecutando el siguiente comando en la terminal:\n",
        "!pip install -r requirements.txt\n"
      ],
      "metadata": {
        "id": "dUDnCEOTFn1b"
      }
    },
    {
      "cell_type": "markdown",
      "source": [
        "# **1.4. Escribir el Código del Bot**\n",
        "\n",
        "# Abre el archivo `app.py` en tu editor de código favorito y pega el siguiente código:\n",
        "\n",
        "# app.py"
      ],
      "metadata": {
        "id": "9nd---9FGLR8"
      }
    },
    {
      "cell_type": "code",
      "source": [
        "import os\n",
        "import requests\n",
        "from flask import Flask, request\n",
        "from hugchat import hugchat\n",
        "from hugchat.login import Login\n",
        "\n",
        "app = Flask(__name__)\n",
        "\n",
        "# Ingresar las credenciales de inicio de sesión en huggingface\n",
        "email = os.environ.get('HF_EMAIL')\n",
        "password = os.environ.get('HF_PASSWORD')\n",
        "\n",
        "# Crear una instancia de la clase Login con las credenciales\n",
        "sign = Login(email, password)\n",
        "\n",
        "# Iniciar sesión y obtener las cookies\n",
        "cookies = sign.login()\n",
        "\n",
        "# Crear una instancia de ChatBot con las cookies de autenticación\n",
        "chatbot = hugchat.ChatBot(cookies=cookies.get_dict())\n",
        "\n",
        "# Ruta para manejar mensajes de Telegram\n",
        "@app.route('/webhook', methods=['POST'])\n",
        "def webhook():\n",
        "    data = request.get_json()\n",
        "    chat_id = data['message']['chat']['id']\n",
        "    user_message = data['message']['text']\n",
        "\n",
        "    # Definir comando de inicio\n",
        "    START_COMMAND = '/start'\n",
        "\n",
        "    # Salir del bucle si se recibe un mensaje de despedida\n",
        "    GOODBYE_MESSAGES = ['salir', 'adios', 'adiós', 'bay', 'chao', 'hasta luego', 'eso es todo', 'adiosito']\n",
        "    if user_message.lower() in GOODBYE_MESSAGES:\n",
        "        telegram_bot_sendtext(chat_id, \"ChatBot: Hasta luego.\")\n",
        "        return '', 200\n",
        "\n",
        "    # Verificar si se recibe el comando de inicio\n",
        "    if user_message.lower() == START_COMMAND:\n",
        "        # Enviar mensaje de bienvenida\n",
        "        telegram_bot_sendtext(chat_id, \"ChatBot: ¡Hola! Soy un bot diseñado para abordar preguntas en el amplio campo de la salud. Mi especialización me permite proporcionar respuestas precisas y útiles en temas relacionados con la salud o más, no olvides recalcar el idioma en el que hablaremos. ¿En qué puedo ayudarte hoy?\")\n",
        "        return '', 200\n",
        "\n",
        "    # Obtener la respuesta del chatbot\n",
        "    response = chatbot.chat(user_message)  # Método correcto para obtener respuesta\n",
        "\n",
        "    # Enviar la respuesta del chatbot al usuario de Telegram\n",
        "    telegram_bot_sendtext(chat_id, f\"ChatBot: {response}\")\n",
        "\n",
        "    return '', 200\n",
        "\n",
        "# Función para enviar mensajes a Telegram\n",
        "def telegram_bot_sendtext(chat_id, bot_message):\n",
        "    bot_token = os.environ.get('TELEGRAM_BOT_TOKEN')\n",
        "    send_text = f'https://api.telegram.org/bot{bot_token}/sendMessage?chat_id={chat_id}&text={bot_message}'\n",
        "    response = requests.get(send_text)\n",
        "    return response.json()\n",
        "\n",
        "@app.before_request\n",
        "def setup_webhook():\n",
        "    bot_token = os.environ.get('TELEGRAM_BOT_TOKEN')\n",
        "    render_url = os.environ.get('RENDER_EXTERNAL_URL')\n",
        "    webhook_url = f'{render_url}/webhook'\n",
        "\n",
        "    set_webhook_url = f'https://api.telegram.org/bot{bot_token}/setWebhook?url={webhook_url}'\n",
        "    response = requests.get(set_webhook_url)\n",
        "    print(response.json())\n",
        "\n",
        "if __name__ == '__main__':\n",
        "    app.run(host='0.0.0.0', port=int(os.environ.get('PORT', 5000)))"
      ],
      "metadata": {
        "id": "ytm680WwGMOj"
      },
      "execution_count": null,
      "outputs": []
    },
    {
      "cell_type": "markdown",
      "source": [
        "# **2. Configuración de Git y GitHub**\n",
        "\n"
      ],
      "metadata": {
        "id": "Ctk1NwFiGRD8"
      }
    },
    {
      "cell_type": "markdown",
      "source": [
        "# **2.1. Inicializar un Repositorio Git**\n",
        "\n",
        "# Dentro de la carpeta `telegram-chatbot`, inicializa un repositorio Git:\n",
        "git init\n",
        "\n",
        "# Añade los archivos al repositorio:\n",
        "git add .\n",
        "\n",
        "# Haz un commit de los cambios:\n",
        "git commit -m \"Initial commit\"\n"
      ],
      "metadata": {
        "id": "VeUR9bjzGtsc"
      }
    },
    {
      "cell_type": "markdown",
      "source": [
        "# **2.2. Crear un Repositorio en GitHub**\n",
        "\n",
        "# 1. Ve a https://github.com y crea un nuevo repositorio, deja desmarcada la opción (Add a README file)\n",
        "# 2. Copia la URL del repositorio que creaste.\n",
        "# 3. Conecta tu repositorio local a GitHub:\n",
        "git remote add origin <URL-DEL-REPOSITORIO>\n",
        "\n",
        "# 4. Sube los archivos a GitHub:\n",
        "git push -u origin master\n"
      ],
      "metadata": {
        "id": "fcAiJsjQGv7S"
      }
    },
    {
      "cell_type": "markdown",
      "source": [
        "# **3. Desplegar el Bot en Render**\n"
      ],
      "metadata": {
        "id": "BXhmvlKWHSuq"
      }
    },
    {
      "cell_type": "markdown",
      "source": [
        "# **3.1. Crear un Servicio Web en Render**\n",
        "\n",
        "# 1. Crea una cuenta en https://render.com/ si no tienes una.\n",
        "# 2. Crea un nuevo \"Web Service\" y selecciona el repositorio de GitHub que contiene tu proyecto.\n",
        "# 3. Configura el \"Start Command\" como `python app.py`.\n"
      ],
      "metadata": {
        "id": "37Yi5-nzHXzM"
      }
    },
    {
      "cell_type": "markdown",
      "source": [
        "# **3.2. Configurar Variables de Entorno**\n",
        "\n",
        "# Dentro de Render, configura las siguientes variables de entorno:\n",
        "\n",
        "# - HF_EMAIL: Tu correo electrónico de Hugging Face.\n",
        "# - HF_PASSWORD: Tu contraseña de Hugging Face.\n",
        "# - TELEGRAM_BOT_TOKEN: El token de tu bot de Telegram.\n",
        "# - RENDER_EXTERNAL_URL: Esta variable se configurará automáticamente cuando Render despliegue tu aplicación.\n"
      ],
      "metadata": {
        "id": "LxBzcdHrHa9O"
      }
    },
    {
      "cell_type": "markdown",
      "source": [
        "# **3.3. Despliegue Automático**\n",
        "\n",
        "# Render automáticamente detectará los cambios y desplegará tu aplicación.\n",
        "# Puedes verificar los logs en el panel de control de Render para asegurarte de que no hay errores.\n"
      ],
      "metadata": {
        "id": "sr4kobjzHhM-"
      }
    },
    {
      "cell_type": "markdown",
      "source": [
        "# **4. Verificación y Pruebas**\n",
        "\n",
        "# 1. Verifica en los logs de Render que la aplicación está corriendo sin problemas.\n",
        "# 2. Envía mensajes al bot de Telegram y verifica que responde correctamente.\n"
      ],
      "metadata": {
        "id": "z3OTx8W2Hkor"
      }
    },
    {
      "cell_type": "markdown",
      "source": [
        "# **Conclusión**\n",
        "\n",
        "# ¡Felicidades! Ahora tienes un bot de Telegram que funciona 24/7 en Render, conectado a GitHub y gestionado con Git.\n",
        "# Cada vez que hagas cambios en el código y los subas a GitHub, Render los detectará y desplegará automáticamente la nueva versión del bot.\n",
        "\n",
        "# Este tutorial te lleva desde la configuración inicial hasta el despliegue completo, asegurando que tu bot esté en funcionamiento constante y listo para interactuar con los usuarios de Telegram.\n"
      ],
      "metadata": {
        "id": "9-ZNl4C7HpaA"
      }
    }
  ]
}